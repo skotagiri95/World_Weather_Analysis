{
 "cells": [
  {
   "cell_type": "code",
   "execution_count": 1,
   "metadata": {},
   "outputs": [],
   "source": [
    "# Import the dependencies.\n",
    "import pandas as pd\n",
    "import gmaps\n",
    "import requests\n",
    "# Import the API key.\n",
    "from config import g_key"
   ]
  },
  {
   "cell_type": "code",
   "execution_count": 2,
   "metadata": {},
   "outputs": [
    {
     "data": {
      "text/html": [
       "<div>\n",
       "<style scoped>\n",
       "    .dataframe tbody tr th:only-of-type {\n",
       "        vertical-align: middle;\n",
       "    }\n",
       "\n",
       "    .dataframe tbody tr th {\n",
       "        vertical-align: top;\n",
       "    }\n",
       "\n",
       "    .dataframe thead th {\n",
       "        text-align: right;\n",
       "    }\n",
       "</style>\n",
       "<table border=\"1\" class=\"dataframe\">\n",
       "  <thead>\n",
       "    <tr style=\"text-align: right;\">\n",
       "      <th></th>\n",
       "      <th>City_ID</th>\n",
       "      <th>City</th>\n",
       "      <th>Lat</th>\n",
       "      <th>Lng</th>\n",
       "      <th>Max Temp</th>\n",
       "      <th>Humidity</th>\n",
       "      <th>Cloudiness</th>\n",
       "      <th>Wind Speed</th>\n",
       "      <th>Country</th>\n",
       "      <th>Date</th>\n",
       "    </tr>\n",
       "  </thead>\n",
       "  <tbody>\n",
       "    <tr>\n",
       "      <th>0</th>\n",
       "      <td>0</td>\n",
       "      <td>Sitka</td>\n",
       "      <td>37.17</td>\n",
       "      <td>-99.65</td>\n",
       "      <td>37.00</td>\n",
       "      <td>50</td>\n",
       "      <td>0</td>\n",
       "      <td>6.64</td>\n",
       "      <td>US</td>\n",
       "      <td>2020-01-06 03:02:37</td>\n",
       "    </tr>\n",
       "    <tr>\n",
       "      <th>1</th>\n",
       "      <td>1</td>\n",
       "      <td>Guhagar</td>\n",
       "      <td>17.48</td>\n",
       "      <td>73.19</td>\n",
       "      <td>76.66</td>\n",
       "      <td>66</td>\n",
       "      <td>0</td>\n",
       "      <td>12.80</td>\n",
       "      <td>IN</td>\n",
       "      <td>2020-01-06 03:02:38</td>\n",
       "    </tr>\n",
       "    <tr>\n",
       "      <th>2</th>\n",
       "      <td>2</td>\n",
       "      <td>Bethel</td>\n",
       "      <td>60.79</td>\n",
       "      <td>-161.76</td>\n",
       "      <td>-16.60</td>\n",
       "      <td>68</td>\n",
       "      <td>1</td>\n",
       "      <td>6.93</td>\n",
       "      <td>US</td>\n",
       "      <td>2020-01-06 02:59:04</td>\n",
       "    </tr>\n",
       "    <tr>\n",
       "      <th>3</th>\n",
       "      <td>3</td>\n",
       "      <td>Jamestown</td>\n",
       "      <td>-33.21</td>\n",
       "      <td>138.60</td>\n",
       "      <td>73.40</td>\n",
       "      <td>55</td>\n",
       "      <td>82</td>\n",
       "      <td>0.31</td>\n",
       "      <td>AU</td>\n",
       "      <td>2020-01-06 02:58:49</td>\n",
       "    </tr>\n",
       "    <tr>\n",
       "      <th>4</th>\n",
       "      <td>4</td>\n",
       "      <td>Yuncheng</td>\n",
       "      <td>35.03</td>\n",
       "      <td>111.00</td>\n",
       "      <td>34.75</td>\n",
       "      <td>98</td>\n",
       "      <td>100</td>\n",
       "      <td>5.95</td>\n",
       "      <td>CN</td>\n",
       "      <td>2020-01-06 03:02:38</td>\n",
       "    </tr>\n",
       "  </tbody>\n",
       "</table>\n",
       "</div>"
      ],
      "text/plain": [
       "   City_ID       City    Lat     Lng  Max Temp  Humidity  Cloudiness  \\\n",
       "0        0      Sitka  37.17  -99.65     37.00        50           0   \n",
       "1        1    Guhagar  17.48   73.19     76.66        66           0   \n",
       "2        2     Bethel  60.79 -161.76    -16.60        68           1   \n",
       "3        3  Jamestown -33.21  138.60     73.40        55          82   \n",
       "4        4   Yuncheng  35.03  111.00     34.75        98         100   \n",
       "\n",
       "   Wind Speed Country                 Date  \n",
       "0        6.64      US  2020-01-06 03:02:37  \n",
       "1       12.80      IN  2020-01-06 03:02:38  \n",
       "2        6.93      US  2020-01-06 02:59:04  \n",
       "3        0.31      AU  2020-01-06 02:58:49  \n",
       "4        5.95      CN  2020-01-06 03:02:38  "
      ]
     },
     "execution_count": 2,
     "metadata": {},
     "output_type": "execute_result"
    }
   ],
   "source": [
    "# Store the CSV you saved created in part one into a DataFrame.\n",
    "city_data_df = pd.read_csv(\"weather_data/cities.csv\")\n",
    "city_data_df.head()"
   ]
  },
  {
   "cell_type": "code",
   "execution_count": 3,
   "metadata": {},
   "outputs": [
    {
     "data": {
      "text/plain": [
       "City_ID         int64\n",
       "City           object\n",
       "Lat           float64\n",
       "Lng           float64\n",
       "Max Temp      float64\n",
       "Humidity        int64\n",
       "Cloudiness      int64\n",
       "Wind Speed    float64\n",
       "Country        object\n",
       "Date           object\n",
       "dtype: object"
      ]
     },
     "execution_count": 3,
     "metadata": {},
     "output_type": "execute_result"
    }
   ],
   "source": [
    "# Get the Data ty\n",
    "city_data_df.dtypes"
   ]
  },
  {
   "cell_type": "code",
   "execution_count": 4,
   "metadata": {},
   "outputs": [],
   "source": [
    "# Configure gmaps to use your Google API key.\n",
    "gmaps.configure(api_key=g_key)"
   ]
  },
  {
   "cell_type": "code",
   "execution_count": 5,
   "metadata": {},
   "outputs": [
    {
     "data": {
      "application/vnd.jupyter.widget-view+json": {
       "model_id": "44bd719b589f4e949c215bf4e4a346d9",
       "version_major": 2,
       "version_minor": 0
      },
      "text/plain": [
       "Figure(layout=FigureLayout(height='420px'))"
      ]
     },
     "metadata": {},
     "output_type": "display_data"
    }
   ],
   "source": [
    "#Max Temperature Heatmap\n",
    "gmaps.configure(api_key=g_key)\n",
    "\n",
    "locations = city_data_df[['Lat','Lng']]\n",
    "maxTemp = city_data_df['Max Temp']\n",
    "adj_maxTemp_weights = [max(temp, 0) for temp in maxTemp]\n",
    "\n",
    "fig = gmaps.figure(center = (30.0,31.0), zoom_level =1.5)\n",
    "\n",
    "heatmap_layer = gmaps.heatmap_layer(locations, weights = adj_maxTemp_weights, \n",
    "                                    dissipating = False, max_intensity = 300, point_radius=4)\n",
    "# Add the heatmap layer.\n",
    "fig.add_layer(heatmap_layer)\n",
    "# Call the figure to plot the data\n",
    "fig"
   ]
  },
  {
   "cell_type": "code",
   "execution_count": 6,
   "metadata": {},
   "outputs": [],
   "source": [
    "# Import the dependencies.\n",
    "import pandas as pd\n",
    "import matplotlib.pyplot as plt\n",
    "import numpy as np"
   ]
  },
  {
   "cell_type": "code",
   "execution_count": 7,
   "metadata": {},
   "outputs": [],
   "source": [
    "# Create a set of random latitude and longitude combinations.\n",
    "latitude = np.random.uniform(low=-90.000, high=90.000, size=1500)\n",
    "longitude = np.random.uniform(low=-180.000, high=180.000, size=1500)\n",
    "latitude_longitude = zip(latitude, longitude)\n"
   ]
  },
  {
   "cell_type": "code",
   "execution_count": 8,
   "metadata": {},
   "outputs": [
    {
     "data": {
      "application/vnd.jupyter.widget-view+json": {
       "model_id": "b0c4e1cd04e344a986c582286cd9c756",
       "version_major": 2,
       "version_minor": 0
      },
      "text/plain": [
       "Figure(layout=FigureLayout(height='420px'))"
      ]
     },
     "metadata": {},
     "output_type": "display_data"
    }
   ],
   "source": [
    "# Percent Humidity Heatmap\n",
    "locations = city_data_df[['Lat','Lng']]\n",
    "humidity = city_data_df['Humidity']\n",
    "\n",
    "heatmap_layer = gmaps.heatmap_layer(locations, weights=humidity,\n",
    "                            dissipating = False, max_intensity=300, point_radius=4)\n",
    "fig = gmaps.figure(center=(30.0,31.0), zoom_level = 1.5)\n",
    "fig.add_layer(heatmap_layer)\n",
    "fig"
   ]
  },
  {
   "cell_type": "code",
   "execution_count": 9,
   "metadata": {},
   "outputs": [
    {
     "data": {
      "application/vnd.jupyter.widget-view+json": {
       "model_id": "e081e817e9754ea2ab6dd8dc7ca328d4",
       "version_major": 2,
       "version_minor": 0
      },
      "text/plain": [
       "Figure(layout=FigureLayout(height='420px'))"
      ]
     },
     "metadata": {},
     "output_type": "display_data"
    }
   ],
   "source": [
    "# Percent Cloudiness Heatmap\n",
    "locations = city_data_df[['Lat','Lng']]\n",
    "clouds = city_data_df['Cloudiness']\n",
    "\n",
    "heatmap_layer = gmaps.heatmap_layer(locations,weights=clouds,\n",
    "                    dissipating=False, max_intensity=300, point_radius=4)\n",
    "fig = gmaps.figure(center = (30.0,31.0), zoom_level =1.5)\n",
    "fig.add_layer(heatmap_layer)\n",
    "\n",
    "fig"
   ]
  },
  {
   "cell_type": "code",
   "execution_count": 10,
   "metadata": {},
   "outputs": [
    {
     "data": {
      "application/vnd.jupyter.widget-view+json": {
       "model_id": "96b9ee51347f4dec9d774437d3a22af4",
       "version_major": 2,
       "version_minor": 0
      },
      "text/plain": [
       "Figure(layout=FigureLayout(height='420px'))"
      ]
     },
     "metadata": {},
     "output_type": "display_data"
    }
   ],
   "source": [
    "# Wind Speed Heatmap\n",
    "locations = city_data_df[['Lat','Lng']]\n",
    "wind = city_data_df['Wind Speed']\n",
    "\n",
    "heatmap_layer = gmaps.heatmap_layer(locations, weights=wind,\n",
    "                            dissipating = False, max_intensity=300, point_radius=4)\n",
    "fig = gmaps.figure(center=(30.0,31.0), zoom_level = 1.5)\n",
    "fig.add_layer(heatmap_layer)\n",
    "fig"
   ]
  }
 ],
 "metadata": {
  "kernelspec": {
   "display_name": "Python 3",
   "language": "python",
   "name": "python3"
  },
  "language_info": {
   "codemirror_mode": {
    "name": "ipython",
    "version": 3
   },
   "file_extension": ".py",
   "mimetype": "text/x-python",
   "name": "python",
   "nbconvert_exporter": "python",
   "pygments_lexer": "ipython3",
   "version": "3.7.4"
  }
 },
 "nbformat": 4,
 "nbformat_minor": 2
}
